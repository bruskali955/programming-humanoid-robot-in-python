{
 "cells": [
  {
   "cell_type": "markdown",
   "metadata": {},
   "source": [
    "# Learn Posture"
   ]
  },
  {
   "cell_type": "markdown",
   "metadata": {},
   "source": [
    "use machine learning to recognize robot's posture (following the example in [scikit-learn-intro.ipynb](./scikit-learn-intro.ipynb) )"
   ]
  },
  {
   "cell_type": "markdown",
   "metadata": {},
   "source": [
    "## 1. Data collection\n",
    "\n",
    "We have colleceted data before, you need to add new data if you want to add new posture.\n",
    "\n",
    "* the dateset are in *robot_pose_data* folder\n",
    "* each file contains the data belongs to this posture, e.g. the data in *Back* file are collected when robot was in \"Back\" posture\n",
    "* the data file can be load by ```pickle```, e.g. ```pickle.load(open('Back'))```, the data is a list of feature data\n",
    "* the features (e.g. each row of the data) are ['LHipYawPitch', 'LHipRoll', 'LHipPitch', 'LKneePitch', 'RHipYawPitch', 'RHipRoll', 'RHipPitch', 'RKneePitch', 'AngleX', 'AngleY'], where 'AngleX' and 'AngleY' are body angle (e.g. ```Perception.imu```) and others are joint angles."
   ]
  },
  {
   "cell_type": "markdown",
   "metadata": {},
   "source": [
    "## 2. Data preprocessing"
   ]
  },
  {
   "cell_type": "code",
   "execution_count": 27,
   "metadata": {},
   "outputs": [
    {
     "name": "stdout",
     "output_type": "stream",
     "text": [
      "Populating the interactive namespace from numpy and matplotlib\n"
     ]
    },
    {
     "name": "stderr",
     "output_type": "stream",
     "text": [
      "/home/ammar594/.local/lib/python3.8/site-packages/IPython/core/magics/pylab.py:159: UserWarning: pylab import has clobbered these variables: ['exp', 'clf', 'permutation']\n",
      "`%matplotlib` prevents importing * from pylab and numpy\n",
      "  warn(\"pylab import has clobbered these variables: %s\"  % clobbered +\n"
     ]
    }
   ],
   "source": [
    "%pylab inline\n",
    "import pickle\n",
    "from os import listdir, path\n",
    "import numpy as np\n",
    "from sklearn import svm, metrics\n",
    "\n",
    "ROBOT_POSE_DATA_DIR = 'robot_pose_data'"
   ]
  },
  {
   "cell_type": "code",
   "execution_count": 28,
   "metadata": {},
   "outputs": [
    {
     "name": "stdout",
     "output_type": "stream",
     "text": [
      "['Stand', 'Frog', 'Right', 'Belly', 'HeadBack', 'Crouch', 'Knee', 'Left', 'Back', 'StandInit', 'Sit']\n"
     ]
    }
   ],
   "source": [
    "classes = listdir(ROBOT_POSE_DATA_DIR)\n",
    "print (classes)"
   ]
  },
  {
   "cell_type": "code",
   "execution_count": 29,
   "metadata": {},
   "outputs": [],
   "source": [
    "class StrToBytes:\n",
    "    def __init__(self, fileobj):\n",
    "        self.fileobj = fileobj\n",
    "    def read(self, size):\n",
    "        return self.fileobj.read(size).encode()\n",
    "    def readline(self, size=-1):\n",
    "        return self.fileobj.readline(size).encode()"
   ]
  },
  {
   "cell_type": "code",
   "execution_count": 30,
   "metadata": {},
   "outputs": [],
   "source": [
    "def load_pose_data(i):\n",
    "    '''load pose data from file'''\n",
    "    data = []\n",
    "    target = []\n",
    "    # YOUR CODE HERE\n",
    "    \n",
    "    data_file = path.join(ROBOT_POSE_DATA_DIR, classes[i])\n",
    "    data_temp = StrToBytes(open(data_file))\n",
    "    data = pickle.load(data_temp)\n",
    "    target = [i] * len(data)\n",
    "    return data, target"
   ]
  },
  {
   "cell_type": "code",
   "execution_count": 31,
   "metadata": {},
   "outputs": [
    {
     "name": "stdout",
     "output_type": "stream",
     "text": [
      "total number of data 222\n"
     ]
    }
   ],
   "source": [
    "# load all the data\n",
    "all_data = []\n",
    "all_target = []\n",
    "\n",
    "for i in range(len(classes)):\n",
    "    data, target = load_pose_data(i)\n",
    "    all_data.extend(data)\n",
    "    all_target.extend(target)\n",
    "\n",
    "print ('total number of data', len(all_data))"
   ]
  },
  {
   "cell_type": "code",
   "execution_count": 32,
   "metadata": {},
   "outputs": [],
   "source": [
    "# shuffule data\n",
    "permutation = np.random.permutation(len(all_data))\n",
    "n_training_data = int(len(all_data) * 0.7)\n",
    "training_data = permutation[:n_training_data]"
   ]
  },
  {
   "cell_type": "markdown",
   "metadata": {},
   "source": [
    "## 3. Learn on training data\n",
    "\n",
    "In scikit-learn, an estimator for classification is a Python object that implements the methods fit(X, y) and predict(T). An example of an estimator is the class sklearn.svm.SVC that implements support vector classification."
   ]
  },
  {
   "cell_type": "code",
   "execution_count": 33,
   "metadata": {},
   "outputs": [],
   "source": [
    "clf = svm.SVC(gamma=0.001, C=100.)"
   ]
  },
  {
   "cell_type": "markdown",
   "metadata": {},
   "source": [
    "### learning"
   ]
  },
  {
   "cell_type": "code",
   "execution_count": 34,
   "metadata": {},
   "outputs": [
    {
     "data": {
      "text/plain": [
       "SVC(C=100.0, gamma=0.001)"
      ]
     },
     "execution_count": 34,
     "metadata": {},
     "output_type": "execute_result"
    }
   ],
   "source": [
    "train_dataset = []\n",
    "train_targetset = []\n",
    "for index in permutation:\n",
    "    train_dataset.append(all_data[index])\n",
    "    train_targetset.append(all_target[index])\n",
    "    \n",
    "\n",
    "clf.fit(train_dataset[:n_training_data], train_targetset[:n_training_data])"
   ]
  },
  {
   "cell_type": "code",
   "execution_count": 35,
   "metadata": {},
   "outputs": [
    {
     "name": "stdout",
     "output_type": "stream",
     "text": [
      "[151 197 183  15  57 212  18  81 174 213  20 101 166 157 155  90  79 112\n",
      "  93 159  75  25  41 173 158 121 136 164 208 146  30 149  94  66  69  13\n",
      " 200  70 102 188  72 144  89 126   7 113  86 140  42  27 108 218  21  14\n",
      "  31  84  23 177 198 203 163  60 205 182  37  43   6  48  24  88  49 204\n",
      " 103  67  56 117 176 105  39 195 109 152 190 187 206 142 119  92 180   0\n",
      " 215  95 160 106 207 107 191 220  32 147  22  52 219   4  73 115 114 132\n",
      "  34  40  68 125 130  58  54 129  98  63 175 118  59 138 194  99  51  36\n",
      " 193 192 122  46 111 120  26 178 181 156  16 135  47 217  17  74  87  12\n",
      " 171 172 161 110 153  50  38   2 148  80  61 209 133 165 145 104 184  83\n",
      " 221   1  19   3  76 154 128  35 143  82 210 169  29 211  45 201 179 137\n",
      "  65  85  78   9 100  71 199 123 162  53 150 189 202 124  10 170  55  28\n",
      " 131  91  77  11 216 186 116 167   5  97 214 139 185   8 141  44 134  33\n",
      "  64 127 196  62  96 168]\n"
     ]
    },
    {
     "data": {
      "text/plain": [
       "SVC(C=100.0, gamma=0.001)"
      ]
     },
     "execution_count": 35,
     "metadata": {},
     "output_type": "execute_result"
    }
   ],
   "source": [
    "dataset = []\n",
    "targetset = []\n",
    "for i in permutation:\n",
    "    dataset.append(all_data[i])\n",
    "    targetset.append(all_target[i])\n",
    "    \n",
    "print (permutation)\n",
    "clf.fit(all_data[:n_training_data], all_target[:n_training_data])"
   ]
  },
  {
   "cell_type": "markdown",
   "metadata": {},
   "source": [
    "### predicting"
   ]
  },
  {
   "cell_type": "code",
   "execution_count": 36,
   "metadata": {},
   "outputs": [
    {
     "data": {
      "text/plain": [
       "(array([9]), [10])"
      ]
     },
     "execution_count": 36,
     "metadata": {},
     "output_type": "execute_result"
    }
   ],
   "source": [
    "clf.predict(all_data[-1:]), all_target[-1:]"
   ]
  },
  {
   "cell_type": "code",
   "execution_count": 37,
   "metadata": {},
   "outputs": [],
   "source": [
    "def evaluate(expected, predicted):\n",
    "    print(\"Classification report:\\n%s\\n\" % metrics.classification_report(expected, predicted))\n",
    "\n",
    "    print(\"Confusion matrix:\\n%s\" % metrics.confusion_matrix(expected, predicted))"
   ]
  },
  {
   "cell_type": "code",
   "execution_count": 38,
   "metadata": {},
   "outputs": [
    {
     "name": "stdout",
     "output_type": "stream",
     "text": [
      "Classification report:\n",
      "              precision    recall  f1-score   support\n",
      "\n",
      "           0       1.00      1.00      1.00        11\n",
      "           1       1.00      1.00      1.00        10\n",
      "           2       1.00      0.91      0.95        11\n",
      "           3       1.00      1.00      1.00        19\n",
      "           4       1.00      1.00      1.00        10\n",
      "           5       0.97      1.00      0.98        30\n",
      "           6       1.00      1.00      1.00        10\n",
      "           7       1.00      1.00      1.00        20\n",
      "           8       1.00      1.00      1.00        23\n",
      "           9       1.00      1.00      1.00        11\n",
      "\n",
      "    accuracy                           0.99       155\n",
      "   macro avg       1.00      0.99      0.99       155\n",
      "weighted avg       0.99      0.99      0.99       155\n",
      "\n",
      "\n",
      "Confusion matrix:\n",
      "[[11  0  0  0  0  0  0  0  0  0]\n",
      " [ 0 10  0  0  0  0  0  0  0  0]\n",
      " [ 0  0 10  0  0  1  0  0  0  0]\n",
      " [ 0  0  0 19  0  0  0  0  0  0]\n",
      " [ 0  0  0  0 10  0  0  0  0  0]\n",
      " [ 0  0  0  0  0 30  0  0  0  0]\n",
      " [ 0  0  0  0  0  0 10  0  0  0]\n",
      " [ 0  0  0  0  0  0  0 20  0  0]\n",
      " [ 0  0  0  0  0  0  0  0 23  0]\n",
      " [ 0  0  0  0  0  0  0  0  0 11]]\n"
     ]
    }
   ],
   "source": [
    "expected = []\n",
    "predicted = []\n",
    "# YOUR CODE HERE\n",
    "predicted = clf.predict(all_data[:n_training_data])\n",
    "expected = all_target[:n_training_data]\n",
    "evaluate(expected, predicted)"
   ]
  },
  {
   "cell_type": "markdown",
   "metadata": {},
   "source": [
    "## 4. Evaluate on the test data"
   ]
  },
  {
   "cell_type": "code",
   "execution_count": 39,
   "metadata": {},
   "outputs": [
    {
     "name": "stdout",
     "output_type": "stream",
     "text": [
      "Classification report:\n",
      "              precision    recall  f1-score   support\n",
      "\n",
      "           0       1.00      1.00      1.00         6\n",
      "           1       1.00      1.00      1.00         2\n",
      "           2       1.00      1.00      1.00         2\n",
      "           3       1.00      1.00      1.00         4\n",
      "           4       1.00      1.00      1.00         2\n",
      "           5       0.91      1.00      0.95        10\n",
      "           6       1.00      1.00      1.00         4\n",
      "           7       1.00      1.00      1.00         2\n",
      "           8       1.00      1.00      1.00        11\n",
      "           9       0.61      1.00      0.76        14\n",
      "          10       0.00      0.00      0.00        10\n",
      "\n",
      "    accuracy                           0.85        67\n",
      "   macro avg       0.87      0.91      0.88        67\n",
      "weighted avg       0.76      0.85      0.79        67\n",
      "\n",
      "\n",
      "Confusion matrix:\n",
      "[[ 6  0  0  0  0  0  0  0  0  0  0]\n",
      " [ 0  2  0  0  0  0  0  0  0  0  0]\n",
      " [ 0  0  2  0  0  0  0  0  0  0  0]\n",
      " [ 0  0  0  4  0  0  0  0  0  0  0]\n",
      " [ 0  0  0  0  2  0  0  0  0  0  0]\n",
      " [ 0  0  0  0  0 10  0  0  0  0  0]\n",
      " [ 0  0  0  0  0  0  4  0  0  0  0]\n",
      " [ 0  0  0  0  0  0  0  2  0  0  0]\n",
      " [ 0  0  0  0  0  0  0  0 11  0  0]\n",
      " [ 0  0  0  0  0  0  0  0  0 14  0]\n",
      " [ 0  0  0  0  0  1  0  0  0  9  0]]\n"
     ]
    },
    {
     "name": "stderr",
     "output_type": "stream",
     "text": [
      "/home/ammar594/anaconda3/lib/python3.8/site-packages/sklearn/metrics/_classification.py:1245: UndefinedMetricWarning: Precision and F-score are ill-defined and being set to 0.0 in labels with no predicted samples. Use `zero_division` parameter to control this behavior.\n",
      "  _warn_prf(average, modifier, msg_start, len(result))\n",
      "/home/ammar594/anaconda3/lib/python3.8/site-packages/sklearn/metrics/_classification.py:1245: UndefinedMetricWarning: Precision and F-score are ill-defined and being set to 0.0 in labels with no predicted samples. Use `zero_division` parameter to control this behavior.\n",
      "  _warn_prf(average, modifier, msg_start, len(result))\n",
      "/home/ammar594/anaconda3/lib/python3.8/site-packages/sklearn/metrics/_classification.py:1245: UndefinedMetricWarning: Precision and F-score are ill-defined and being set to 0.0 in labels with no predicted samples. Use `zero_division` parameter to control this behavior.\n",
      "  _warn_prf(average, modifier, msg_start, len(result))\n"
     ]
    }
   ],
   "source": [
    "expected = []\n",
    "predicted = []\n",
    "# YOUR CODE HERE\n",
    "testData = permutation[n_training_data:]\n",
    "testData.shape\n",
    "expected = np.asarray(all_target)[testData]\n",
    "predicted = clf.predict(np.asarray(all_data)[testData])\n",
    "evaluate(expected, predicted)"
   ]
  },
  {
   "cell_type": "markdown",
   "metadata": {},
   "source": [
    "## 5. Deploy to the real system\n",
    "\n",
    "We can simple use `pickle` module to serialize the trained classifier."
   ]
  },
  {
   "cell_type": "code",
   "execution_count": 40,
   "metadata": {},
   "outputs": [],
   "source": [
    "import pickle\n",
    "ROBOT_POSE_CLF = 'robot_pose.pkl'\n",
    "pickle.dump(clf, open(ROBOT_POSE_CLF, 'wb'))"
   ]
  },
  {
   "cell_type": "markdown",
   "metadata": {},
   "source": [
    "Then, in the application we can load the trained classifier again."
   ]
  },
  {
   "cell_type": "code",
   "execution_count": 41,
   "metadata": {},
   "outputs": [
    {
     "data": {
      "text/plain": [
       "(array([9]), [10])"
      ]
     },
     "execution_count": 41,
     "metadata": {},
     "output_type": "execute_result"
    }
   ],
   "source": [
    "clf2 = pickle.load(open(ROBOT_POSE_CLF, 'rb'))\n",
    "clf2.predict(all_data[-1:]), all_target[-1:]"
   ]
  },
  {
   "cell_type": "code",
   "execution_count": 42,
   "metadata": {},
   "outputs": [
    {
     "data": {
      "text/plain": [
       "[[-0.3128941059112549,\n",
       "  -0.230057954788208,\n",
       "  -1.6704840660095215,\n",
       "  0.9663779735565186,\n",
       "  -0.3128941059112549,\n",
       "  0.0353238582611084,\n",
       "  -1.6228026151657104,\n",
       "  0.8299360275268555,\n",
       "  0.025310691446065903,\n",
       "  -0.16758745908737183]]"
      ]
     },
     "execution_count": 42,
     "metadata": {},
     "output_type": "execute_result"
    }
   ],
   "source": [
    "all_data[-1:]"
   ]
  },
  {
   "cell_type": "code",
   "execution_count": null,
   "metadata": {},
   "outputs": [],
   "source": []
  }
 ],
 "metadata": {
  "kernelspec": {
   "display_name": "Python 3",
   "language": "python",
   "name": "python3"
  },
  "language_info": {
   "codemirror_mode": {
    "name": "ipython",
    "version": 3
   },
   "file_extension": ".py",
   "mimetype": "text/x-python",
   "name": "python",
   "nbconvert_exporter": "python",
   "pygments_lexer": "ipython3",
   "version": "3.8.8"
  },
  "widgets": {
   "state": {},
   "version": "1.0.0"
  }
 },
 "nbformat": 4,
 "nbformat_minor": 1
}